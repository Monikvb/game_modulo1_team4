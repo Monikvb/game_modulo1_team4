{
 "cells": [
  {
   "cell_type": "markdown",
   "metadata": {},
   "source": [
    "# READ ME PROYECTO MÓDULO 1 TEAM 4"
   ]
  },
  {
   "cell_type": "markdown",
   "metadata": {},
   "source": [
    "## ¿Quiénes somos?\n",
    "    Somos el equipo 4Data Analitycs, nuestra empresa estña formada por Mónica, Tersa, Vanesa y Sara, mujeres que están decididas a abrirse camino en el mundo del Data\n"
   ]
  },
  {
   "cell_type": "markdown",
   "metadata": {},
   "source": [
    "## Situación\n",
    "    La empresa Adalab se ha puesto en contacto con nosotras con un objetivo, el de crear tres juegos para que su cartera de usuarios tengan mas posibilidades de ocio. \n",
    "    Los juegos que nos han pedido crear son: \n",
    "    - Piedra, papel y tijera. \n",
    "    -Preguntas y respuestas. \n",
    "    -Ahorcado \n"
   ]
  },
  {
   "cell_type": "markdown",
   "metadata": {},
   "source": [
    "## Duración del proyecto\n",
    "    El 2 de febrero se pusieron en contacto con nosotras para creaar el proyecto que está definido en dos sprints. La entrega se realizará al cliente el martes 2 de Abril."
   ]
  },
  {
   "cell_type": "markdown",
   "metadata": {},
   "source": [
    "## ¿Cómo lo haremos?\n",
    "    Como pioneras en el uso de Python realizaremos el código con esta herramienta de programación, y utilizaremos el VS Code para desarrollar el código."
   ]
  }
 ],
 "metadata": {
  "kernelspec": {
   "display_name": "Python 3",
   "language": "python",
   "name": "python3"
  },
  "language_info": {
   "codemirror_mode": {
    "name": "ipython",
    "version": 3
   },
   "file_extension": ".py",
   "mimetype": "text/x-python",
   "name": "python",
   "nbconvert_exporter": "python",
   "pygments_lexer": "ipython3",
   "version": "3.9.12"
  }
 },
 "nbformat": 4,
 "nbformat_minor": 2
}

{
 "cells": [
  {
   "cell_type": "code",
   "execution_count": null,
   "metadata": {},
   "outputs": [],
   "source": []
  },
  {
   "cell_type": "markdown",
   "metadata": {},
   "source": [
    "1.\tCuantos países hay en el mundo _ 195\n",
    "2.\t¿Cuál es el desierto más grande del mundo? Respuesta: desierto antártico\n",
    "3.\t¿Cuál es el nombre del río más grande que fluye a través de París? Respuesta El Sena\n",
    "4.\t¿Cuántas zonas horarias tiene Australia? Respuesta Tres\n",
    "5.\tDe cuántos estados se compone Estados Unidos? Respuesta: 50\n",
    "6.\tBakú es la capital de qué país? Respuesta: Azerbaiyán\n",
    "7.\t¿En qué ciudad capital se encuentra la Gran Mezquita del Sultán Qaboos? Respuesta: Mascate, Omán\n",
    "1.\t¿Qué parte de la superficie de la Tierra está cubierta por el océano? Res\n",
    "2.\t¿En qué océano desemboca el río Amazonas? Respuesta El océano Atlántico\n",
    "8.\tpuesta 71% \n",
    "9.\t¿Qué dos países limitan directamente al norte de Hungría? Respuesta: Eslovaquia y Ucrania\n",
    "10.\t¿Cuál es el río más corto del mundo? Respuesta Río Roe\n",
    "11.\t¿Cuál fue la capital original de los Estados Unidos? Respuesta Nueva York\n",
    "12.\tSi estoy visitando la capital de Bielorrusia, ¿en qué ciudad estoy? Respuesta: Minsk\n",
    "13.\t¿Verdadero o falso, la cadena montañosa más larga del mundo está bajo el mar? Respuesta Verdadero. La Dorsal Medio-Oceánica se extiende a lo largo del fondo del océano a lo largo de los límites de las placas tectónicas, alcanzando aproximadamente 65 mil km.\n",
    "\n",
    "\n",
    "\n",
    "\n",
    "Usuario = input(“ ¿Quieres jugar?”)\n",
    "Nombre_de_usuario = input(“introduce tu nombre”)\n",
    "if usuario = \"yes\"\n",
    "print()\n",
    "\n",
    "inicio = input(\"Bienvenido, este es el juego de preguntas y respuestas. Para ganar tienes que contestar correctamente 3 de las 5 preguntas. Tienes 3 intentos por pregunta. ¿Quieres jugar? yes/no\")\n",
    "while\n",
    "If inicio == \"yes\"\n",
    "\n",
    "    print(\"¿Cuál es la capital de China?\": \"Pekin\",)\n",
    "\n",
    "else: #sería que pusiese no\n",
    "    print(\"ok, vuelve cuando quieras jugar\")\n",
    "\n",
    "preguntas_respuestas = {\"¿Cuál es la capital de China?\": \"Pekin\",\n",
    "    \"¿Cuál es el río más grande de Africa?\": \"Nilo\",\n",
    "    \"¿Cuál es el río más grande de España?\": \"Tajo\",\n",
    "    \"Donde desemboca el río Amazonas?\": \"Oceano Atlantico\",\n",
    "    \"¿Cuál la comunidad mas pequeña de España?\": \"Ceuta\" }\n",
    "preguntas_respuestas"
   ]
  },
  {
   "cell_type": "code",
   "execution_count": 6,
   "metadata": {},
   "outputs": [],
   "source": [
    "import random\n",
    "\n",
    "inicio = input(\"Bienvenido, este es el juego de preguntas y respuestas.Para ganar tienes que contestar correctamente 3 de las 5 preguntas. Tienes 3 intentos por pregunta.\")\n",
    "\n",
    "Jugador = input(\"Introduce tu nombre\")\n",
    "\n",
    "puntos_jugador = 0\n",
    "\n",
    "num_preguntas = 5\n",
    "\n",
    "respuesta_jugador = input(\"Introduce tu respuesta\").lower\n",
    "\n",
    "preguntas_respuestas = {\"¿Cuál es la capital de China?\": \"pekin\",\n",
    "    \"¿Cuál es el río más grande de Africa?\": \"nilo\",\n",
    "    \"¿Cuál es el río más grande de España?\": \"tajo\",\n",
    "    \"Donde desemboca el río Amazonas?\": \"oceano atlantico\",\n",
    "    \"¿Cuál la comunidad mas pequeña de España?\": \"ceuta\" }\n",
    "\n",
    "while puntos_jugador\n",
    "\n",
    "if respuesta_jugador == preguntas_respuestas.values\n",
    "\n"
   ]
  }
 ],
 "metadata": {
  "kernelspec": {
   "display_name": "Python 3",
   "language": "python",
   "name": "python3"
  },
  "language_info": {
   "codemirror_mode": {
    "name": "ipython",
    "version": 3
   },
   "file_extension": ".py",
   "mimetype": "text/x-python",
   "name": "python",
   "nbconvert_exporter": "python",
   "pygments_lexer": "ipython3",
   "version": "3.11.8"
  }
 },
 "nbformat": 4,
 "nbformat_minor": 2
}

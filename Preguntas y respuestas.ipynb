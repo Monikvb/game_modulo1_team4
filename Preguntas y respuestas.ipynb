{
 "cells": [
  {
   "cell_type": "markdown",
   "metadata": {},
   "source": [
    "### Juego de ==>  ¡Preguntas y Respuestas!\n",
    "\n",
    "- Reglas del Juego de \"Preguntas y Respuestas de Geografía\":\n",
    "    - El juego consiste en hacer preguntas de geografía y que el jugador adivine la respuesta correcta.\n",
    "\n",
    "    - Cada pregunta tiene una respuesta única y correcta.\n",
    "\n",
    "    - El jugador tiene un número limitado de intentos para responder correctamente a cada pregunta.\n",
    "\n",
    "    - El juego sigue hasta que el jugador responda incorrectamente 3 de veces o haya respondido 5 preguntas correctamente.\n",
    "\n",
    "\n",
    "- Pistas para las alumnas:\n",
    "\n",
    "    1. Comienza creando un diccionario que contenga preguntas de geografía como claves y respuestas como valores.\n",
    "\n",
    "    2. Implementa una función para seleccionar una pregunta aleatoria del diccionario.\n",
    "\n",
    "    3. Utiliza un bucle `while` para hacer preguntas de geografía hasta que el jugador responda un número específico de preguntas correctamente o alcance un número máximo de respuestas incorrectas.\n",
    "\n",
    "    4. Dentro del bucle, presenta la pregunta al jugador y permita que ingresen sus respuestas.\n",
    "\n",
    "    5. Lleva un seguimiento del número de preguntas realizadas y el número de respuestas correctas.\n",
    "\n",
    "    6. Determina las condiciones de victoria y derrota del juego y sal del bucle cuando se cumplan estas condiciones."
   ]
  },
  {
   "cell_type": "code",
   "execution_count": 5,
   "metadata": {},
   "outputs": [
    {
     "name": "stdout",
     "output_type": "stream",
     "text": [
      "¡Bienvenido/a al juego!\n"
     ]
    },
    {
     "ename": "KeyboardInterrupt",
     "evalue": "Interrupted by user",
     "output_type": "error",
     "traceback": [
      "\u001b[0;31m---------------------------------------------------------------------------\u001b[0m",
      "\u001b[0;31mKeyboardInterrupt\u001b[0m                         Traceback (most recent call last)",
      "Cell \u001b[0;32mIn[5], line 38\u001b[0m\n\u001b[1;32m     35\u001b[0m pregunta \u001b[38;5;241m=\u001b[39m random\u001b[38;5;241m.\u001b[39mchoice(preguntas)\n\u001b[1;32m     37\u001b[0m \u001b[38;5;66;03m# Mostramos la pregunta al jugador y obtenemos su respuesta\u001b[39;00m\n\u001b[0;32m---> 38\u001b[0m respuesta_jugador \u001b[38;5;241m=\u001b[39m \u001b[38;5;28;43minput\u001b[39;49m\u001b[43m(\u001b[49m\u001b[43mpregunta\u001b[49m\u001b[43m \u001b[49m\u001b[38;5;241;43m+\u001b[39;49m\u001b[43m \u001b[49m\u001b[38;5;124;43m\"\u001b[39;49m\u001b[38;5;130;43;01m\\n\u001b[39;49;00m\u001b[38;5;124;43m: \u001b[39;49m\u001b[38;5;124;43m\"\u001b[39;49m\u001b[43m)\u001b[49m\u001b[38;5;241m.\u001b[39mlower()\n\u001b[1;32m     40\u001b[0m \u001b[38;5;66;03m# Obtenemos la respuesta correcta\u001b[39;00m\n\u001b[1;32m     41\u001b[0m respuesta_correcta \u001b[38;5;241m=\u001b[39m preguntas_respuestas[pregunta]\n",
      "File \u001b[0;32m~/Library/Python/3.11/lib/python/site-packages/ipykernel/kernelbase.py:1282\u001b[0m, in \u001b[0;36mKernel.raw_input\u001b[0;34m(self, prompt)\u001b[0m\n\u001b[1;32m   1280\u001b[0m     msg \u001b[38;5;241m=\u001b[39m \u001b[38;5;124m\"\u001b[39m\u001b[38;5;124mraw_input was called, but this frontend does not support input requests.\u001b[39m\u001b[38;5;124m\"\u001b[39m\n\u001b[1;32m   1281\u001b[0m     \u001b[38;5;28;01mraise\u001b[39;00m StdinNotImplementedError(msg)\n\u001b[0;32m-> 1282\u001b[0m \u001b[38;5;28;01mreturn\u001b[39;00m \u001b[38;5;28;43mself\u001b[39;49m\u001b[38;5;241;43m.\u001b[39;49m\u001b[43m_input_request\u001b[49m\u001b[43m(\u001b[49m\n\u001b[1;32m   1283\u001b[0m \u001b[43m    \u001b[49m\u001b[38;5;28;43mstr\u001b[39;49m\u001b[43m(\u001b[49m\u001b[43mprompt\u001b[49m\u001b[43m)\u001b[49m\u001b[43m,\u001b[49m\n\u001b[1;32m   1284\u001b[0m \u001b[43m    \u001b[49m\u001b[38;5;28;43mself\u001b[39;49m\u001b[38;5;241;43m.\u001b[39;49m\u001b[43m_parent_ident\u001b[49m\u001b[43m[\u001b[49m\u001b[38;5;124;43m\"\u001b[39;49m\u001b[38;5;124;43mshell\u001b[39;49m\u001b[38;5;124;43m\"\u001b[39;49m\u001b[43m]\u001b[49m\u001b[43m,\u001b[49m\n\u001b[1;32m   1285\u001b[0m \u001b[43m    \u001b[49m\u001b[38;5;28;43mself\u001b[39;49m\u001b[38;5;241;43m.\u001b[39;49m\u001b[43mget_parent\u001b[49m\u001b[43m(\u001b[49m\u001b[38;5;124;43m\"\u001b[39;49m\u001b[38;5;124;43mshell\u001b[39;49m\u001b[38;5;124;43m\"\u001b[39;49m\u001b[43m)\u001b[49m\u001b[43m,\u001b[49m\n\u001b[1;32m   1286\u001b[0m \u001b[43m    \u001b[49m\u001b[43mpassword\u001b[49m\u001b[38;5;241;43m=\u001b[39;49m\u001b[38;5;28;43;01mFalse\u001b[39;49;00m\u001b[43m,\u001b[49m\n\u001b[1;32m   1287\u001b[0m \u001b[43m\u001b[49m\u001b[43m)\u001b[49m\n",
      "File \u001b[0;32m~/Library/Python/3.11/lib/python/site-packages/ipykernel/kernelbase.py:1325\u001b[0m, in \u001b[0;36mKernel._input_request\u001b[0;34m(self, prompt, ident, parent, password)\u001b[0m\n\u001b[1;32m   1322\u001b[0m \u001b[38;5;28;01mexcept\u001b[39;00m \u001b[38;5;167;01mKeyboardInterrupt\u001b[39;00m:\n\u001b[1;32m   1323\u001b[0m     \u001b[38;5;66;03m# re-raise KeyboardInterrupt, to truncate traceback\u001b[39;00m\n\u001b[1;32m   1324\u001b[0m     msg \u001b[38;5;241m=\u001b[39m \u001b[38;5;124m\"\u001b[39m\u001b[38;5;124mInterrupted by user\u001b[39m\u001b[38;5;124m\"\u001b[39m\n\u001b[0;32m-> 1325\u001b[0m     \u001b[38;5;28;01mraise\u001b[39;00m \u001b[38;5;167;01mKeyboardInterrupt\u001b[39;00m(msg) \u001b[38;5;28;01mfrom\u001b[39;00m \u001b[38;5;28;01mNone\u001b[39;00m\n\u001b[1;32m   1326\u001b[0m \u001b[38;5;28;01mexcept\u001b[39;00m \u001b[38;5;167;01mException\u001b[39;00m:\n\u001b[1;32m   1327\u001b[0m     \u001b[38;5;28mself\u001b[39m\u001b[38;5;241m.\u001b[39mlog\u001b[38;5;241m.\u001b[39mwarning(\u001b[38;5;124m\"\u001b[39m\u001b[38;5;124mInvalid Message:\u001b[39m\u001b[38;5;124m\"\u001b[39m, exc_info\u001b[38;5;241m=\u001b[39m\u001b[38;5;28;01mTrue\u001b[39;00m)\n",
      "\u001b[0;31mKeyboardInterrupt\u001b[0m: Interrupted by user"
     ]
    }
   ],
   "source": [
    "#agregar 5 preguntas más\n",
    "# hacer las excepciones s\n",
    "# agregar un print que diga bienvenido o alguna cosa. \n",
    "\n",
    "import random\n",
    "\n",
    "preguntas_respuestas = {\n",
    "    \"¿Cuál es la capital de China?\": \"pekin\",\n",
    "    \"¿Cuál es el río más grande de África?\": \"nilo\",\n",
    "    \"¿En qué comunidad autónoma se habla el Catalán?\": \"cataluña\",\n",
    "    \"¿Quien descubrió America?\": \"cristobal colon\",\n",
    "    \"¿Cuál es el río más grande de España?\": \"tajo\",\n",
    "    \"¿Cuál es la comunidad autónoma más pequeña de España?\": \"ceuta\",\n",
    "    \"¿Cual es la capital de España?\" : \"madrid\",\n",
    "    \"¿La Sagrada Familia en qué ciudad de España se encuentra?\": \"barcelona\",\n",
    "    \"¿Dónde nació Pablo Picasso?\": \"malaga\",\n",
    "    \"¿Dónde desemboca el río Amazonas?\": \"oceano atlantico\",\n",
    "}\n",
    "\n",
    "\n",
    "# Convertimos las claves del diccionario en una lista para poder usar random.choice()\n",
    "preguntas = list(preguntas_respuestas.keys())\n",
    "\n",
    "# Variable para contar los puntos del jugador\n",
    "intentos = 0\n",
    "puntos = 0\n",
    "oportunidades = 5\n",
    "numero_puntos_para_ganar = 3\n",
    "\n",
    "\n",
    "# Bucle para continuar preguntando mientras ambas sean verdad o True\n",
    "while puntos < numero_puntos_para_ganar and intentos < oportunidades:\n",
    "    \n",
    "    # Hacemos la selección aleatoria de la pregunta\n",
    "    pregunta = random.choice(preguntas)\n",
    "    \n",
    "    # Mostramos la pregunta al jugador y obtenemos su respuesta\n",
    "    respuesta_jugador = input(pregunta + \"\\n: \").lower()\n",
    "\n",
    "    # Obtenemos la respuesta correcta\n",
    "    respuesta_correcta = preguntas_respuestas[pregunta]\n",
    "\n",
    "    # Comparamos la respuesta del jugador con la respuesta correcta\n",
    "    if respuesta_jugador == respuesta_correcta:\n",
    "        intentos += 1\n",
    "        puntos += 1 \n",
    "        print(f\"¡Correctol! es: {respuesta_correcta}\")\n",
    "        \n",
    "    elif respuesta_jugador != respuesta_correcta:\n",
    "        intentos += 1\n",
    "        print(f\"¡Oh, has fallado! La respuesta es: {respuesta_correcta}\")\n",
    "    #else:\n",
    "        #print(f\"¡Oh, has fallado! La respuesta correcta es: {respuesta_correcta}\")\n",
    "#print('respuesta correcta por el jugador', respuesta_correcta)\n",
    "\n",
    "if puntos >= numero_puntos_para_ganar:    \n",
    "    print(f\"Haz ganado con: {puntos} puntos\")\n",
    "\n",
    "else:\n",
    "    print(f\"Has obtenido {puntos} puntos y tenias {intentos} intentos\")\n",
    "        "
   ]
  }
 ],
 "metadata": {
  "kernelspec": {
   "display_name": "Python 3",
   "language": "python",
   "name": "python3"
  },
  "language_info": {
   "codemirror_mode": {
    "name": "ipython",
    "version": 3
   },
   "file_extension": ".py",
   "mimetype": "text/x-python",
   "name": "python",
   "nbconvert_exporter": "python",
   "pygments_lexer": "ipython3",
   "version": "3.11.5"
  }
 },
 "nbformat": 4,
 "nbformat_minor": 2
}

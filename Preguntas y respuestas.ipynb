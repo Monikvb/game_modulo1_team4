{
 "cells": [
  {
   "cell_type": "markdown",
   "metadata": {},
   "source": [
    "### Juego de ==>  ¡Preguntas y Respuestas!"
   ]
  },
  {
   "cell_type": "code",
   "execution_count": 6,
   "metadata": {},
   "outputs": [],
   "source": [
    "import random\n",
    "\n",
    "inicio = input(\"Bienvenido, este es el juego de preguntas y respuestas.Para ganar tienes que contestar correctamente 3 de las 5 preguntas. Tienes 3 intentos por pregunta.\")\n",
    "\n",
    "jugador = input(\"Introduce tu nombre\")\n",
    "\n",
    "puntos_jugador = 0\n",
    "\n",
    "num_preguntas = 5\n",
    "\n",
    "respuesta_jugador = input(\"Introduce tu respuesta\").lower\n",
    "\n",
    "preguntas_respuestas = {\"¿Cuál es la capital de China?\": \"pekin\",\n",
    "    \"¿Cuál es el río más grande de Africa?\": \"nilo\",\n",
    "    \"¿Cuál es el río más grande de España?\": \"tajo\",\n",
    "    \"Donde desemboca el río Amazonas?\": \"oceano atlantico\",\n",
    "    \"¿Cuál la comunidad mas pequeña de España?\": \"ceuta\" }\n",
    "\n",
    "while puntos_jugador: \n",
    "\n",
    "if respuesta_jugador == preguntas_respuestas.values\n",
    "\n"
   ]
  }
 ],
 "metadata": {
  "kernelspec": {
   "display_name": "Python 3",
   "language": "python",
   "name": "python3"
  },
  "language_info": {
   "codemirror_mode": {
    "name": "ipython",
    "version": 3
   },
   "file_extension": ".py",
   "mimetype": "text/x-python",
   "name": "python",
   "nbconvert_exporter": "python",
   "pygments_lexer": "ipython3",
   "version": "3.11.8"
  }
 },
 "nbformat": 4,
 "nbformat_minor": 2
}

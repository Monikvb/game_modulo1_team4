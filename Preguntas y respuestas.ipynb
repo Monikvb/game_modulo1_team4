{
 "cells": [
  {
   "cell_type": "markdown",
   "metadata": {},
   "source": [
    "### Juego de ==>  ¡Preguntas y Respuestas!\n",
    "\n",
    "- Reglas del Juego de \"Preguntas y Respuestas de Geografía\":\n",
    "    - El juego consiste en hacer preguntas de geografía y que el jugador adivine la respuesta correcta.\n",
    "\n",
    "    - Cada pregunta tiene una respuesta única y correcta.\n",
    "\n",
    "    - El jugador tiene un número limitado de intentos para responder correctamente a cada pregunta.\n",
    "\n",
    "    - El juego sigue hasta que el jugador responda incorrectamente 3 de veces o haya respondido 5 preguntas correctamente.\n",
    "\n",
    "\n",
    "- Pistas para las alumnas:\n",
    "\n",
    "    1. Comienza creando un diccionario que contenga preguntas de geografía como claves y respuestas como valores.\n",
    "\n",
    "    2. Implementa una función para seleccionar una pregunta aleatoria del diccionario.\n",
    "\n",
    "    3. Utiliza un bucle `while` para hacer preguntas de geografía hasta que el jugador responda un número específico de preguntas correctamente o alcance un número máximo de respuestas incorrectas.\n",
    "\n",
    "    4. Dentro del bucle, presenta la pregunta al jugador y permita que ingresen sus respuestas.\n",
    "\n",
    "    5. Lleva un seguimiento del número de preguntas realizadas y el número de respuestas correctas.\n",
    "\n",
    "    6. Determina las condiciones de victoria y derrota del juego y sal del bucle cuando se cumplan estas condiciones."
   ]
  },
  {
   "cell_type": "code",
   "execution_count": 1,
   "metadata": {},
   "outputs": [
    {
     "name": "stdout",
     "output_type": "stream",
     "text": [
      "¡Oh, has fallado! La respuesta es: oceano atlantico\n",
      "¡Correctol! era: tajo\n",
      "¡Oh, has fallado! La respuesta es: oceano atlantico\n",
      "¡Correctol! era: tajo\n",
      "¡Correctol! era: pekin\n",
      "Haz ganado con: 3 puntos\n"
     ]
    }
   ],
   "source": [
    "#agregar 5 preguntas más\n",
    "# hacer las excepciones s\n",
    "\n",
    "import random\n",
    "\n",
    "preguntas_respuestas = {\n",
    "    \"¿Cuál es la capital de China?\": \"pekin\",\n",
    "    \"¿Cuál es el río más grande de África?\": \"nilo\",\n",
    "    \"¿Cuál es el río más grande de España?\": \"tajo\",\n",
    "    \"¿Dónde desemboca el río Amazonas?\": \"oceano atlantico\",\n",
    "    \"¿Cuál es la comunidad autónoma más pequeña de España?\": \"ceuta\"\n",
    "}\n",
    "\n",
    "\n",
    "# Convertimos las claves del diccionario en una lista para poder usar random.choice()\n",
    "preguntas = list(preguntas_respuestas.keys())\n",
    "\n",
    "# Variable para contar los puntos del jugador\n",
    "intentos = 0\n",
    "puntos = 0\n",
    "oportunidades = 5\n",
    "numero_puntos_para_ganar = 3\n",
    "\n",
    "# Bucle para continuar preguntando mientras ambas sean verdad o True\n",
    "while puntos < numero_puntos_para_ganar and intentos < oportunidades:\n",
    "    \n",
    "    # Hacemos la selección aleatoria de la pregunta\n",
    "    pregunta = random.choice(preguntas)\n",
    "    \n",
    "    # Mostramos la pregunta al jugador y obtenemos su respuesta\n",
    "    respuesta_jugador = input(pregunta + \"\\n: \").lower()\n",
    "\n",
    "    # Obtenemos la respuesta correcta\n",
    "    respuesta_correcta = preguntas_respuestas[pregunta]\n",
    "\n",
    "    # Comparamos la respuesta del jugador con la respuesta correcta\n",
    "    if respuesta_jugador == respuesta_correcta:\n",
    "        intentos += 1\n",
    "        puntos += 1 \n",
    "        print(f\"¡Correctol! era: {respuesta_correcta}\")\n",
    "        \n",
    "    elif respuesta_jugador != respuesta_correcta:\n",
    "        intentos += 1\n",
    "        print(f\"¡Oh, has fallado! La respuesta es: {respuesta_correcta}\")\n",
    "    #else:\n",
    "        #print(f\"¡Oh, has fallado! La respuesta correcta es: {respuesta_correcta}\")\n",
    "#print('respuesta correcta por el jugador', respuesta_correcta)\n",
    "\n",
    "if puntos >= numero_puntos_para_ganar:    \n",
    "    print(f\"Haz ganado con: {puntos} puntos\")\n",
    "\n",
    "else:\n",
    "    print(f\"Has obtenido {puntos} puntos y tenias {intentos} intentos\")\n",
    "        "
   ]
  }
 ],
 "metadata": {
  "kernelspec": {
   "display_name": "Python 3",
   "language": "python",
   "name": "python3"
  },
  "language_info": {
   "codemirror_mode": {
    "name": "ipython",
    "version": 3
   },
   "file_extension": ".py",
   "mimetype": "text/x-python",
   "name": "python",
   "nbconvert_exporter": "python",
   "pygments_lexer": "ipython3",
   "version": "3.11.5"
  }
 },
 "nbformat": 4,
 "nbformat_minor": 2
}

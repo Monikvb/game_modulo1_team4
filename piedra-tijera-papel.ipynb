{
 "cells": [
  {
   "cell_type": "code",
   "execution_count": 9,
   "metadata": {},
   "outputs": [
    {
     "ename": "TypeError",
     "evalue": "bad operand type for unary +: 'str'",
     "output_type": "error",
     "traceback": [
      "\u001b[0;31m---------------------------------------------------------------------------\u001b[0m",
      "\u001b[0;31mTypeError\u001b[0m                                 Traceback (most recent call last)",
      "Cell \u001b[0;32mIn[9], line 27\u001b[0m\n\u001b[1;32m     23\u001b[0m \u001b[38;5;28;01mif\u001b[39;00m player1 \u001b[38;5;241m==\u001b[39m player2 : \n\u001b[1;32m     24\u001b[0m     \u001b[38;5;28mprint\u001b[39m(\u001b[38;5;124m\"\u001b[39m\u001b[38;5;124mempate\u001b[39m\u001b[38;5;124m\"\u001b[39m )\n\u001b[0;32m---> 27\u001b[0m \u001b[38;5;28;01mif\u001b[39;00m player1 \u001b[38;5;241m==\u001b[39m \u001b[38;5;124m\"\u001b[39m\u001b[38;5;124mpiedra\u001b[39m\u001b[38;5;124m\"\u001b[39m \u001b[38;5;129;01mand\u001b[39;00m player2 \u001b[38;5;241m==\u001b[39m \u001b[38;5;124m\"\u001b[39m\u001b[38;5;124mpapel\u001b[39m\u001b[38;5;124m\"\u001b[39m : \u001b[38;5;28mprint\u001b[39m(\u001b[38;5;124m\"\u001b[39m\u001b[38;5;124mGana\u001b[39m\u001b[38;5;124m\"\u001b[39m, \u001b[38;5;241m+\u001b[39m name_player2) \n\u001b[1;32m     28\u001b[0m \u001b[38;5;28;01mif\u001b[39;00m player1 \u001b[38;5;241m==\u001b[39m \u001b[38;5;124m\"\u001b[39m\u001b[38;5;124mpiedra\u001b[39m\u001b[38;5;124m\"\u001b[39m \u001b[38;5;129;01mand\u001b[39;00m player2 \u001b[38;5;241m==\u001b[39m \u001b[38;5;124m\"\u001b[39m\u001b[38;5;124mtijera\u001b[39m\u001b[38;5;124m\"\u001b[39m : \u001b[38;5;28mprint\u001b[39m(\u001b[38;5;124m\"\u001b[39m\u001b[38;5;124mGana\u001b[39m\u001b[38;5;124m\"\u001b[39m, player1 )\n\u001b[1;32m     30\u001b[0m \u001b[38;5;28;01mif\u001b[39;00m player1 \u001b[38;5;241m==\u001b[39m \u001b[38;5;124m\"\u001b[39m\u001b[38;5;124mpapel\u001b[39m\u001b[38;5;124m\"\u001b[39m \u001b[38;5;129;01mand\u001b[39;00m player2 \u001b[38;5;241m==\u001b[39m \u001b[38;5;124m\"\u001b[39m\u001b[38;5;124mtijera\u001b[39m\u001b[38;5;124m\"\u001b[39m : \u001b[38;5;28mprint\u001b[39m(\u001b[38;5;124m\"\u001b[39m\u001b[38;5;124mGana\u001b[39m\u001b[38;5;124m\"\u001b[39m, player2 )\n",
      "\u001b[0;31mTypeError\u001b[0m: bad operand type for unary +: 'str'"
     ]
    }
   ],
   "source": [
    "# pedir los nombre de cada jugador y asignarle una variable para cuando gane\n",
    "name_player1 = input('Hola jugador/a #1, nombra tu avatar:')\n",
    "name_player2 = input('Hola jugador/a #2, nombra tu avatar:')\n",
    "\n",
    "#introduce la opción\n",
    "name_player1  = input('Hola ' + name_player1 + ' Escoge una de las 3 opciones y empeza a jugar => ¿piedra, papel o tijera? ')\n",
    "name_player2 = input('Hola ' + name_player2 + ' Escoge una de las 3 opciones y empeza a jugar => ¿piedra, papel o tijera? ')\n",
    "\n",
    "# si lo escribe en mayuscula lo volvera minuscula\n",
    "player1 = name_player1.lower()\n",
    "player2 = name_player2.lower()\n",
    "\n",
    "\n",
    "# comprobar valor correcto\n",
    "#if player1 != \"piedra\" or player1 != \"papel\" or player1 != \"tijera\": print(\"Error, no corresponde a ninguna opción\") \n",
    "#if player1 and player2 != o not in option \n",
    "#option = (\"piedra\", \"papel\", \"tijera\")  #is player1 and player2 != option\n",
    "\n",
    "#mientras sigue el juego hasta que alguno llega a 3 puntos de 5\n",
    "#while player1 or player2 <= 3 \n",
    "\n",
    "#como hacer cada uno de los intentos.\n",
    "if player1 == player2 : \n",
    "    print(\"empate\" )\n",
    "\n",
    "\n",
    "if player1 == \"piedra\" and player2 == \"papel\" : print(\"Gana\", name_player2)  # no me sale el nombre del jugador, sino la opcion\n",
    "if player1 == \"piedra\" and player2 == \"tijera\" : print(\"Gana\", player1 )\n",
    "\n",
    "if player1 == \"papel\" and player2 == \"tijera\" : print(\"Gana\", player2 )\n",
    "if player1 == \"papel\" and player2 == \"piedra\" : print(\"Gana\", player1 )\n",
    "\n",
    "if player1 == \"tijera\" and player2 == \"piedra\" : print(\"Gana\", player2 )\n",
    "if player1 == \"tijera\" and player2 == \"papel\" : print(\"Gana\", player1 )\n",
    "\n",
    "#Si uno de los jugadores llega a 5 puntos gana\n",
    "#if player1 or player2 == 3 :\n",
    "    #print(\"Haz ganado el round, 3 de 5 \") #player1 o player2  como lo hago??\n",
    "\n",
    "# debo sumar cada round del jugador si gana \n",
    "#player1 += 1\n",
    "#player2 += 1\n"
   ]
  }
 ],
 "metadata": {
  "kernelspec": {
   "display_name": "Python 3",
   "language": "python",
   "name": "python3"
  },
  "language_info": {
   "codemirror_mode": {
    "name": "ipython",
    "version": 3
   },
   "file_extension": ".py",
   "mimetype": "text/x-python",
   "name": "python",
   "nbconvert_exporter": "python",
   "pygments_lexer": "ipython3",
   "version": "3.11.5"
  }
 },
 "nbformat": 4,
 "nbformat_minor": 2
}

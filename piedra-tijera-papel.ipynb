{
 "cells": [
  {
   "cell_type": "code",
   "execution_count": 2,
   "metadata": {},
   "outputs": [
    {
     "name": "stdout",
     "output_type": "stream",
     "text": [
      "PLAYER_1 tijera y PLAYER_2 piedra\n",
      "Gana ROBOT\n",
      "PLAYER_1 tijera y PLAYER_2 piedra\n",
      "Gana ROBOT\n",
      "PLAYER_1 papel y PLAYER_2 piedra\n",
      "Gana FEDE\n",
      "PLAYER_1 piedra y PLAYER_2 tijera\n",
      "Gana FEDE\n",
      "PLAYER_1 piedra y PLAYER_2 piedra\n",
      "empate\n",
      "PLAYER_1 papel y PLAYER_2 piedra\n",
      "Gana FEDE\n",
      "Haz ganado  FEDE\n"
     ]
    }
   ],
   "source": [
    "# importo el modulo random y este genera aleatoriedad\n",
    "import random \n",
    "\n",
    "# pedir los nombre de cada jugador y asignarle una variable para cuando gane\n",
    "name_player1 = input('Hola jugador/a #1, nombra tu avatar:')\n",
    "name_player2 = 'ROBOT'\n",
    "\n",
    "# ganadas por jugador - # debo sumar cada round del jugador si gana \n",
    "winings_player1 = 0\n",
    "winings_player2 = 0\n",
    "\n",
    "# estas los son opciones del juego\n",
    "options_game = ['piedra', 'papel', 'tijera']\n",
    "\n",
    "# colocar un print que diga que esa opción no es valida. \n",
    "\n",
    "#mientras sigue el juego hasta que alguno llega a 3 puntos de 5\n",
    "while winings_player1 < 3 and winings_player2 < 3:\n",
    "    \n",
    "    game_player1 = input('Hola ' + name_player1 + ' Escoge piedra, papel o tijera').lower()\n",
    "    game_player2 = random.choice(options_game) # Aqui es aleatorio, y ambas son funciones solo que una escoge\n",
    "    \n",
    "    print(f'PLAYER_1 {game_player1} y PLAYER_2 {game_player2}') # \n",
    "    \n",
    "    if game_player1 == game_player2 : #como hacer cada uno de los intentos.\n",
    "        print(\"empate\")\n",
    "\n",
    "    if game_player1 == \"piedra\" and game_player2 == \"papel\" : \n",
    "        print(\"Gana\", name_player2)\n",
    "        winings_player2 += 1\n",
    "\n",
    "    if game_player1 == \"piedra\" and game_player2 == \"tijera\" : \n",
    "        print(\"Gana\", name_player1)\n",
    "        winings_player1 += 1\n",
    "\n",
    "    if game_player1 == \"papel\" and game_player2 == \"tijera\" : \n",
    "        print(\"Gana\", name_player2)\n",
    "        winings_player2 += 1\n",
    "\n",
    "    if game_player1 == \"papel\" and game_player2 == \"piedra\" : \n",
    "        print(\"Gana\", name_player1)\n",
    "        winings_player1 += 1    \n",
    "\n",
    "    if game_player1 == \"tijera\" and game_player2 == \"piedra\" : \n",
    "        print(\"Gana\", name_player2)\n",
    "        winings_player2 += 1\n",
    "\n",
    "    if game_player1 == \"tijera\" and game_player2 == \"papel\" : \n",
    "        print(\"Gana\", name_player1)\n",
    "        winings_player1 += 1\n",
    "    \n",
    "if winings_player1 > winings_player2:    \n",
    "    print(\"Haz ganado \", name_player1)\n",
    "\n",
    "else:\n",
    "    print(\"Has ganado \", name_player2)\n",
    "\n"
   ]
  },
  {
   "cell_type": "code",
   "execution_count": null,
   "metadata": {},
   "outputs": [],
   "source": []
  }
 ],
 "metadata": {
  "kernelspec": {
   "display_name": "Python 3",
   "language": "python",
   "name": "python3"
  },
  "language_info": {
   "codemirror_mode": {
    "name": "ipython",
    "version": 3
   },
   "file_extension": ".py",
   "mimetype": "text/x-python",
   "name": "python",
   "nbconvert_exporter": "python",
   "pygments_lexer": "ipython3",
   "version": "3.11.5"
  }
 },
 "nbformat": 4,
 "nbformat_minor": 2
}

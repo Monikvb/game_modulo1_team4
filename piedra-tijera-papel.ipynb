{
 "cells": [
  {
   "cell_type": "code",
   "execution_count": null,
   "metadata": {},
   "outputs": [],
   "source": [
    "# pedir los nombre cada jugador y asignarle una variable para cuando gane\n",
    "name_player1 = input('Hola jugador/a #1, escoge un nombre para tu avatar:')\n",
    "name_player2 = input('Hola jugador/a #2, escoge un nombre para tu avatar:')\n",
    "\n",
    "#introduce la opción\n",
    "name_player1  = input('Hola ' + name_player1 + ' Escoge una de estas 3 opciones y empeza a jugar => ¿piedra, papel o tijera? ')\n",
    "name_player2 = input('Hola ' + name_player2 + ' Escoge una de estas 3 opciones y empeza a jugar => ¿piedra, papel o tijera? ')\n",
    "\n",
    "# si lo escribe en mayuscula lo volvera minuscula\n",
    "player1 = name_player1.lower()\n",
    "player2 = name_player2.lower()\n",
    "\n",
    "# comprobar valor correcto\n",
    "#if player1 != \"piedra\" or player1 != \"papel\" or player1 != \"tijera\": print(\"Error, no corresponde a nunguna opción\") \n",
    "\n",
    "#como hacer cada uno de los intentos.\n",
    "if player1 == player2 : print(\"empate\")\n",
    "if player1 == \"piedra\" and player2 == \"papel\" : print( player2 + \" Gana\") #aqui me sale papel y no el nombre del jugador \n"
   ]
  }
 ],
 "metadata": {
  "language_info": {
   "name": "python"
  }
 },
 "nbformat": 4,
 "nbformat_minor": 2
}

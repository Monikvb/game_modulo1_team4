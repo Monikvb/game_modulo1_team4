{
 "cells": [
  {
   "cell_type": "markdown",
   "metadata": {},
   "source": [
    "## Juego Ahoracado ✏️ ##\n",
    "\n",
    "El juego del **Ahorcado** es un juego para 2 personas, uno de ellos el robot y otro un jugador.\n",
    "\n",
    "Este caso el ordenador piensa una palabra y el jugador humano tiene que adivinar la palabra. El objetivo del juego es adivinar la palabra secreta antes de que se acaben el número de oportunidades.\n",
    "\n",
    "**Cómo Jugar:**\n",
    "    \n",
    "1. Al inicio del juego se presentan las instrucciones de uso.\n",
    "2. Después se le solicita al jugador que introduzca una letra.\n",
    "3. Si el jugador acierta una letra esta se muestra en cada su lugar correspondiente y se muestra un mensaje de error.\n",
    "4. Si el jugador introduce una letra incorrecta o un valor diferente a un string dará un error.\n",
    "5. Si el juego continuar hasta que se agoten el número de oportunidades, es decir hasta que se termine la longitud de la palabra en funcion del número intentos.\n",
    "    \n",
    "**Estructura del Código:**\n",
    "\n",
    "- El juego utiliza varios bucle `for`:\n",
    "    * 1º Bucle `for`  que realiza una iteracion sobre la palabra secreta que al mismo tiempo gestiona las oportunidades.\n",
    "    * 2º Bucle `for` anidado sobre el anterior que itera sobre cada letra de la palabra secreta.\n",
    "- El juego se implementa utilizando usando unas condiciones `if / elif /else`, para gestionar la letras introducidas, la letra adivinadas y los errores, asi como la finalización del juego.\n",
    "- Se utilizan contadores para registrar  los intentos de cada letra.\n",
    "- Se verifica la validez de la entrada del jugador humano para evitar errores durante el juego.\n"
   ]
  },
  {
   "cell_type": "code",
   "execution_count": 2,
   "metadata": {},
   "outputs": [
    {
     "name": "stdout",
     "output_type": "stream",
     "text": [
      "¡Bienvenido al juego del ahorcado!.\n",
      "\n",
      "Estas son las instrucciones del juego\n",
      "En este juego se elige una palabra a adivinar .\n",
      "El jugador,  elige una palabra y la intenta adivinarla.\n",
      "Por cada letra correcta, se escribe en su lugar correspondiente y por cada error, se imprime un mensaje de error. \n",
      "Ganas si  adivinas la palabra antes de se muestren todos los errores.Tienes un máximo de 4 intentos.\n",
      "Buena suerte🎉.\n",
      "\n",
      "Error, la letra no es correcta 💀 \n",
      "Palabra: _ _ _ _ \n",
      "¡Bien hecho! Has acertado una letra 🙋.\n",
      "Palabra: _ _ s _ \n",
      "¡Bien hecho! Has acertado una letra 🙋.\n",
      "Palabra: _ a s a \n",
      "¡Bien hecho! Has acertado una letra 🙋.\n",
      "Palabra: c a s a \n",
      "\n",
      "¡Felicidades! ¡Has adivinado la palabra! 🏆\n"
     ]
    }
   ],
   "source": [
    "palabra_secreta = \"casa\" # Definicion de palabra \n",
    "letras_adivinadas = [] # Lista para almacenar las letras adivinadas\n",
    "oportunidades = 4 # Definición del número máximo de intentos en función del  tamaño de la letra\n",
    "\n",
    "# Print con las instrucciones del juego sobre como jugar al jugador\n",
    " \n",
    "print(\"¡Bienvenido al juego del ahorcado!.\\n\")\n",
    "\n",
    "print(\"Estas son las instrucciones del juego\")\n",
    "\n",
    "print(\"En este juego se elige una palabra a adivinar.\\n\"\n",
    "    \"Por cada letra correcta, se escribe en su lugar correspondiente y por cada error, se imprime un mensaje de error. \\n\"\n",
    "    \"Ganas si  adivinas la palabra antes de se muestren todos los errores.\"\n",
    "    \"Tienes un máximo de\", oportunidades, \"intentos.\\n\"\n",
    "    \"Buena suerte🎉.\\n\")\n",
    "    \n",
    "\n",
    "for intento in range(oportunidades): # Bucle for que itera sobre la palabra secreta, que gestionar los intentos del jugador en función del número especificado en oportunidades \n",
    "    \n",
    "    letra_jugador = input('Ingresa una letra: ').lower() # Solicitar al jugador que ingrese una letra y usamos lower para asegurar que siempre sea minuscula\n",
    "    if letra_jugador in letras_adivinadas: #Validar la letra introducida por el jugador, verifica si la letra ya ha sido añadida\n",
    "        print(\"¡Ya has ingresado esa letra! Intenta con otra.\")\n",
    "        continue      \n",
    "    elif letra_jugador not in palabra_secreta: # Verifica que la letra no esta en la palabra secreta mostrando un mensaje de error\n",
    "        print (\"Error, la letra no es correcta 💀 \")\n",
    "    else: # Registra la letra adivinada y muestra un mensaje correcto.    \n",
    "        letras_adivinadas.append(letra_jugador) #Si la letra es válida y no ha sido adivinada antes se agrega a letras_adivinadas mediante un append\n",
    "        print(\"¡Bien hecho! Has acertado una letra 🙋.\")\n",
    "    \n",
    "    aciertos = 0 #Inicio de la variable contador aciertos que sirve para contar los aciertos\n",
    "    palabra_mostrada = \"\" # Inicio de la variable palabra_mostrada como una cadena vacía y que se usa para representar la palabra secreta al jugador.\n",
    "    \n",
    "    for letra_secreta in palabra_secreta: #Bucle for que itera sobre cada letra de la palabra secreta\n",
    "        if letra_secreta in letras_adivinadas: # Verificamos si la letra (letra_secreta) esta en la lista de letras_adivinadas que se han acertado.\n",
    "            palabra_mostrada += letra_secreta + \" \" # Si la letra esta en letra_adivinadas se agrega a la lista de palabra_mostrada seguida por un espacio\n",
    "            aciertos += 1 # Se añade al contador un intento\n",
    "        else:\n",
    "            palabra_mostrada += \"_ \" # Añadimos un guión en caso de que la letra no sea adivinada\n",
    "    print(\"Palabra:\",palabra_mostrada) # Se imprime esta la palabra secreta.\n",
    "\n",
    "    if aciertos == len(palabra_secreta): # Si el número de aciertos es igual a la longitud de la palabra secreta se advinado la palabra\n",
    "        print(\"\\n¡Felicidades! ¡Has adivinado la palabra! 🏆\") # Mensaje de felicitación para el jugador\n",
    "        break # el bucle se interrumpe \n",
    "\n",
    "else: # Condición del fin del juego, si el bucle for termina sin adivinar la palabra se muestra un mensaje de que el jugador a perdido\n",
    "    print(\"\\n¡Has perdido! 😞 La palabra era:\", palabra_secreta)\n",
    "    "
   ]
  }
 ],
 "metadata": {
  "kernelspec": {
   "display_name": "base",
   "language": "python",
   "name": "python3"
  },
  "language_info": {
   "codemirror_mode": {
    "name": "ipython",
    "version": 3
   },
   "file_extension": ".py",
   "mimetype": "text/x-python",
   "name": "python",
   "nbconvert_exporter": "python",
   "pygments_lexer": "ipython3",
   "version": "3.11.5"
  }
 },
 "nbformat": 4,
 "nbformat_minor": 2
}

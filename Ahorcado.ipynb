{
 "cells": [
  {
   "cell_type": "markdown",
   "metadata": {},
   "source": [
    "### Juego del  ==>  \"AHORCADO\"\n",
    "\n",
    "- El juego del Ahorcado es un juego para 2 personas en el que una de ellas piensa una palabra y despues dibuja una línea por cada letra de la palabra, la otra jugadora, lo que hace es intentar adivinar las letras que pueden estar en la palabra seleccionada.\n",
    "Si la segunda jugadora adivina la letra de forma correcta, la primera jugadora escribe la letra en el espacio en blanco apropiado. Pero si la segunda jugadora se equivoca en la letra, entonces la primera jugadora dibuja una parte del cuerpo de una persona ahorcada. \n",
    "Para ganar el juego, la segunda jugadora tiene que adivinar todas las letras de la palabra antes de que la persona ahorcada sea dibujada completamente.\n",
    "\n",
    "#### Los pasos para poder realizar este juego son los siguientes:\n",
    "1. Definición de la palabra secreta en una lista, ya que de esta forma podremos tener las letras separadas.\n",
    "2. Creación de una palabra oculta que incluya las letras que tiene nuestra palabra secreta dividida por guiones bajos, para ello usamos la función (len)\n",
    "3. Creación de una lista que incluya las letras que hemos ido utilizando\n",
    "4. Número de intentos, donde por cada uno de los fallos se va a restar un turno.\n",
    "5. Letras descartadas que son las letras que ya hemos usado y son incorrectas\n",
    "6. Uso de los metodos: If, elif, while y else, para controlar el funcionamiento del juego\n",
    "    if: es para crear la primera condición de funcionamiento y más tarde para sa\n",
    "    elif: las condiciones añadidas, donde se considerara si la letra introducida es correcta o es falsa.\n",
    "    else:\n",
    "    while: Para controlar la lógica del juego y permitir que continue en funcionamiento mientras este el número de intentos correcto.\n",
    "\n",
    "\n",
    "* Nota: Vamos a utilizar el método join para unir elementos en una lista y sirveformatear la salida de las letras descartadas y la palabra oculta\n",
    "* Nota2: Vamos a usar  lower para que siempres se usen letras en minúscula, independientemente de cómo las introduzca el usuario.\n",
    "* Nota3: Usamos el append. en la lista de las letras para ir añadidnedo datos a la letras en la lista de descartes\n"
   ]
  },
  {
   "cell_type": "code",
   "execution_count": 1,
   "metadata": {},
   "outputs": [
    {
     "name": "stdout",
     "output_type": "stream",
     "text": [
      "¡Bienvenido al juego del ahorcado!\n",
      "_ _ _ _ \n",
      "c _ _ _ \n",
      "c _ _ _ \n",
      "c a _ a \n",
      "c a s a \n",
      "¡Felicidades! ¡Has adivinado la palabra!\n"
     ]
    }
   ],
   "source": [
    "# Agregar la exepción en los juegos\n",
    "\n",
    "\n",
    "palabra_secreta = \"casa\"\n",
    "letras_adivinadas = []\n",
    "oportunidades = 6\n",
    "\n",
    "print(\"¡Bienvenido al juego del ahorcado!\")\n",
    "\n",
    "for _ in range(oportunidades):\n",
    "    letra_jugador = input('Ingresa una letra: ').lower()\n",
    "\n",
    "    if letra_jugador in letras_adivinadas:\n",
    "        print(\"¡Ya has ingresado esa letra! Intenta con otra.\")\n",
    "        continue\n",
    "\n",
    "    letras_adivinadas.append(letra_jugador)\n",
    "\n",
    "    aciertos = 0\n",
    "    palabra_mostrada = \"\"\n",
    "    for letra_secreta in palabra_secreta:\n",
    "        if letra_secreta in letras_adivinadas:\n",
    "            palabra_mostrada += letra_secreta + \" \"\n",
    "            aciertos += 1\n",
    "        else:\n",
    "            palabra_mostrada += \"_ \"\n",
    "\n",
    "    print(palabra_mostrada)  # Mostrar la palabra oculta\n",
    "\n",
    "    if aciertos == len(palabra_secreta):\n",
    "        print(\"¡Felicidades! ¡Has adivinado la palabra!\")\n",
    "        break\n",
    "else:\n",
    "    print(\"¡Has perdido! La palabra es:\", palabra_secreta)"
   ]
  }
 ],
 "metadata": {
  "kernelspec": {
   "display_name": "base",
   "language": "python",
   "name": "python3"
  },
  "language_info": {
   "codemirror_mode": {
    "name": "ipython",
    "version": 3
   },
   "file_extension": ".py",
   "mimetype": "text/x-python",
   "name": "python",
   "nbconvert_exporter": "python",
   "pygments_lexer": "ipython3",
   "version": "3.11.5"
  }
 },
 "nbformat": 4,
 "nbformat_minor": 2
}

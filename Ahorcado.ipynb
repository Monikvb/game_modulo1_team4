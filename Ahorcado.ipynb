{
 "cells": [
  {
   "cell_type": "markdown",
   "metadata": {},
   "source": [
    "El juego del Ahorcado es un juego para 2 personas en el que una de ellas piensa una palabra y despues dibuja una línea por cada letra de la palabra.\n",
    "El otro jugador, lo que hace es intentar adivinar las letras que pueden estar en la palabra seleccionada.\n",
    "\n",
    "Si la segunda jugadora adivina la letra de forma correcta, la primera jugadora escribe la letra en el espacio en blanco apropiado. Pero si la segunda jugadora se equivoca en la letra, entonces la primera jugadora dibuja una parte del cuerpo de una persona ahorcada. Para ganar el juego, la segunda jugadora tiene que adivinar todas las letras de la palabra antes de que la persona ahorcada sea dibujada completamente.\n",
    "\n",
    "Los pasos para poder realizar este juego son los siguientes:\n",
    "\n",
    "1) Definición del palabra secreta\n",
    "2) Creación de una lista que incluya las letras que hemos ido utilizando\n"
   ]
  },
  {
   "cell_type": "code",
   "execution_count": 2,
   "metadata": {},
   "outputs": [
    {
     "name": "stdout",
     "output_type": "stream",
     "text": [
      "adalab\n"
     ]
    }
   ],
   "source": [
    "#Creación de la palabra secreta\n",
    "palabra_secreta= \"adalab\"\n",
    "print(palabra_secreta)\n",
    "\n"
   ]
  },
  {
   "cell_type": "code",
   "execution_count": null,
   "metadata": {},
   "outputs": [],
   "source": [
    "#Creación de una lista para co palabra secreta\n",
    "letras_acertadas = []"
   ]
  },
  {
   "cell_type": "code",
   "execution_count": 3,
   "metadata": {},
   "outputs": [],
   "source": [
    "#Numero de intentos a tener en cuenta\n",
    "intentos_maximos = 6\n",
    "intentos = 0"
   ]
  }
 ],
 "metadata": {
  "kernelspec": {
   "display_name": "base",
   "language": "python",
   "name": "python3"
  },
  "language_info": {
   "codemirror_mode": {
    "name": "ipython",
    "version": 3
   },
   "file_extension": ".py",
   "mimetype": "text/x-python",
   "name": "python",
   "nbconvert_exporter": "python",
   "pygments_lexer": "ipython3",
   "version": "3.9.7"
  }
 },
 "nbformat": 4,
 "nbformat_minor": 2
}

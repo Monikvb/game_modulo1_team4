{
 "cells": [
  {
   "cell_type": "markdown",
   "metadata": {},
   "source": [
    "# Juego del  ==>  \"AHORCADO\"\n",
    "\n",
    "El juego del **Ahorcado** es un juego para 2 personas en el que una de ellas piensa una palabra (en nuestro caso el ordenador) y despues dibuja una línea por cada letra de la palabra, la otra jugadora, lo que hace es intentar adivinar las letras que pueden estar en la palabra seleccionada.</p>\n",
    "<p>Si la segunda jugadora adivina la letra de forma correcta, la primera jugadora(el ordenador) escribe la letra en el espacio en blanco apropiado. Pero si la segunda jugadora se equivoca en la letra, entonces la primera jugadora dibuja una parte del cuerpo de una persona ahorcada.</p> \n",
    "\n",
    "<p>Para ganar el juego, la segunda jugadora tiene que adivinar todas las letras de la palabra antes de que la persona ahorcada sea dibujada completamente.</p>\n",
    "\n",
    "## Pasos para realizar el juego ## \n",
    "<p> Los pasos para poder realizar este juego son los siguientes:</p>\n",
    "<p>1. Definición de la palabra secreta en una lista, ya que de esta forma podremos tener las letras separadas.</p>\n",
    "2. Creación de una **palabra oculta** que incluya las letras que tiene nuestra palabra secreta dividida por guiones bajos, para ello usamos la **función(len)**.</p>\n",
    "<p>3. Creación de una lista que incluya las letras que hemos ido utilizando</p>\n",
    "<p>4. Número de intentos, donde por cada uno de los fallos se va a restar un turno.</p>\n",
    "<p>5. Letras descartadas que son las letras que ya hemos usado y son incorrectas. </p>\n",
    "<p>6. Uso de los metodos: If, elif, while y else, para controlar el funcionamiento del juego:</p>\n",
    "* if: es para crear la primera condición de funcionamiento y más tarde para saber los intentos.</p>\n",
    "* elif: las condiciones añadidas, donde se considerara si la letra introducida es correcta o es falsa.</p>\n",
    "* else:</p>\n",
    "* while: Para controlar la lógica del juego y permitir que continue en funcionamiento mientras este el número de intentos correcto.</p>\n",
    "\n",
    "* Nota: Vamos a utilizar el método join para unir elementos en una lista y sirveformatear la salida de las letras descartadas y la palabra oculta\n",
    "* Nota2: Vamos a usar  lower para que siempres se usen letras en minúscula, independientemente de cómo las introduzca el usuario.\n",
    "* Nota3: Usamos el append. en la lista de las letras para ir añadidnedo datos a la letras en la lista de descartes.\n"
   ]
  },
  {
   "cell_type": "code",
   "execution_count": null,
   "metadata": {},
   "outputs": [
    {
     "name": "stdout",
     "output_type": "stream",
     "text": [
      "['_', '_', '_', '_', '_', '_']\n"
     ]
    }
   ],
   "source": [
    "#Creación de la palabra secreta\n",
    "palabra_secreta= list(\"adalab\")\n",
    "palabra_oculta =['_']*len(palabra_secreta)\n",
    "print (palabra_oculta)"
   ]
  },
  {
   "cell_type": "code",
   "execution_count": null,
   "metadata": {},
   "outputs": [],
   "source": []
  },
  {
   "cell_type": "code",
   "execution_count": null,
   "metadata": {},
   "outputs": [],
   "source": [
    "#Numero de intetos\n",
    "intentos = 6"
   ]
  },
  {
   "cell_type": "code",
   "execution_count": null,
   "metadata": {},
   "outputs": [],
   "source": [
    "#Creación de una lista para las letras descartadas\n",
    "lista_abecedario = list('abcdefghijklmnñopqrstuvwxyz')\n",
    "letras_descartadas = []"
   ]
  },
  {
   "cell_type": "code",
   "execution_count": null,
   "metadata": {},
   "outputs": [],
   "source": [
    "#LOGICA DELJUEGO\n",
    "def mostrar_estado():\n",
    "    print(f'Intentos restantes: {intentos}')\n",
    "    print(f'Letras descartadas: {\", \".join(letras_descartadas)}\\n')\n",
    "    print(f'Palabra: {\" \".join(palabra_oculta)}\\n')"
   ]
  },
  {
   "cell_type": "code",
   "execution_count": null,
   "metadata": {},
   "outputs": [],
   "source": [
    "# Verificación de la letra válida\n",
    "def letra_valida(letra):\n",
    "    if len(letra) != 1 :\n",
    "        print('Has puesto más de una letra, inténtalo de nuevo.')\n",
    "        return False\n",
    "    elif letra not in lista_abecedario:\n",
    "        print('No has introducido una letra del abecedario')\n",
    "        return False\n",
    "    elif letra in palabra_oculta:\n",
    "        print('La letra que has introducido ya la has acertado, inténtalo de nuevo.')\n",
    "        return False\n",
    "    elif letra in letras_descartadas:\n",
    "        print('Esa letra ya la habías dicho, inténtalo de nuevo.')\n",
    "        return False\n",
    "    else:\n",
    "        return True"
   ]
  },
  {
   "cell_type": "code",
   "execution_count": null,
   "metadata": {},
   "outputs": [],
   "source": [
    "#Creacion de un metodo para saber si la letra es correcta o no \n",
    "def gestion_letra(letra):\n",
    "    for i in range(len(palabra_secreta)):\n",
    "        if palabra_secreta[i] == letra:\n",
    "            palabra_oculta[i] = letra\n",
    "            palabra_secreta[i] = '_'"
   ]
  },
  {
   "cell_type": "code",
   "execution_count": null,
   "metadata": {},
   "outputs": [
    {
     "name": "stdout",
     "output_type": "stream",
     "text": [
      "BIENVENIDO AL JUEGO DEL AHORCADO ADALAB\n",
      "\n",
      "Reglas del juego: Introduce letras para adivinar la palabra secreta .\n",
      "Tienes 6 intentos. ¡Buena suerte!\n",
      "Intentos restantes: 6\n",
      "Letras descartadas: \n",
      "\n",
      "Palabra: _ _ _ _ _ _\n",
      "\n",
      "--------------------------------------------------\n",
      "--------------------------------------------------\n",
      "¡Has acertado la letra! Sigue así.\n",
      "Intentos restantes: 6\n",
      "Letras descartadas: \n",
      "\n",
      "Palabra: a _ a _ a _\n",
      "\n",
      "--------------------------------------------------\n",
      "--------------------------------------------------\n",
      "¡Has fallado la letra!\n",
      "Intentos restantes: 5\n",
      "Letras descartadas: m\n",
      "\n",
      "Palabra: a _ a _ a _\n",
      "\n",
      "--------------------------------------------------\n",
      "--------------------------------------------------\n",
      "¡Has fallado la letra!\n",
      "Intentos restantes: 4\n",
      "Letras descartadas: m, n\n",
      "\n",
      "Palabra: a _ a _ a _\n",
      "\n",
      "--------------------------------------------------\n",
      "--------------------------------------------------\n",
      "¡Has acertado la letra! Sigue así.\n",
      "Intentos restantes: 4\n",
      "Letras descartadas: m, n\n",
      "\n",
      "Palabra: a _ a l a _\n",
      "\n",
      "--------------------------------------------------\n",
      "--------------------------------------------------\n",
      "¡Has acertado la letra! Sigue así.\n",
      "Intentos restantes: 4\n",
      "Letras descartadas: m, n\n",
      "\n",
      "Palabra: a _ a l a b\n",
      "\n",
      "--------------------------------------------------\n",
      "--------------------------------------------------\n",
      "¡Has acertado la letra! Sigue así.\n",
      "\n",
      "\n",
      "¡ENHORABUENA! ¡HAS GANADO EL JUEGO!\n"
     ]
    }
   ],
   "source": [
    "#Funcionamiento del juego\n",
    "print('BIENVENIDO AL JUEGO DEL AHORCADO ADALAB\\n')\n",
    "# pedir el nombre al jugador\n",
    "Jugador= input('Hola jugador, ¿Como te llamas?:')\n",
    "\n",
    "print('Reglas del juego: Introduce letras para adivinar la palabra secreta .')\n",
    "print(f'Tienes {intentos} intentos. ¡Buena suerte!')\n",
    "\n",
    "while intentos > 0 and '_' in palabra_oculta:\n",
    "    mostrar_estado()\n",
    "    print('-'*50)\n",
    "    letra = input('INTRODUCE LETRA: ').lower()\n",
    "\n",
    "    while not letra_valida(letra):\n",
    "        letra = input('INTRODUCE OTRA LETRA: ').lower()\n",
    "\n",
    "    if letra in palabra_secreta:\n",
    "        gestion_letra(letra)\n",
    "        print('-'*50)\n",
    "        print('¡Has acertado la letra! Sigue así.')\n",
    "    else:\n",
    "        print('-'*50)\n",
    "        print('¡Has fallado la letra!')\n",
    "        letras_descartadas.append(letra)\n",
    "        intentos -= 1\n",
    "\n",
    "if '_' not in palabra_oculta:\n",
    "    print('\\n\\n¡ENHORABUENA! ¡HAS GANADO EL JUEGO!')\n",
    "else:\n",
    "        print(f'\\nOh! Lo siento, ¡has perdido!'\n",
    "        '''\\n\n",
    "      \n",
    "    ''')"
   ]
  }
 ],
 "metadata": {
  "kernelspec": {
   "display_name": "base",
   "language": "python",
   "name": "python3"
  },
  "language_info": {
   "codemirror_mode": {
    "name": "ipython",
    "version": 3
   },
   "file_extension": ".py",
   "mimetype": "text/x-python",
   "name": "python",
   "nbconvert_exporter": "python",
   "pygments_lexer": "ipython3",
   "version": "3.9.13"
  }
 },
 "nbformat": 4,
 "nbformat_minor": 2
}
